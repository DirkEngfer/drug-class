{
 "cells": [
  {
   "cell_type": "markdown",
   "metadata": {},
   "source": [
    "## Multi-label prediction with All drugs in the 12 MeSH classes"
   ]
  },
  {
   "cell_type": "code",
   "execution_count": 1,
   "metadata": {},
   "outputs": [],
   "source": [
    "%reload_ext autoreload\n",
    "%autoreload 2\n",
    "%matplotlib inline"
   ]
  },
  {
   "cell_type": "code",
   "execution_count": 2,
   "metadata": {},
   "outputs": [],
   "source": [
    "from fastai.vision import *\n",
    "from fastai.datasets import Config\n",
    "import pandas as pd\n",
    "import numpy as np\n",
    "from fastai.vision.data import Image\n",
    "from functools import partial\n",
    "import torch\n",
    "from fastai.metrics import *\n",
    "from fastai import utils\n",
    "from sklearn.metrics import confusion_matrix, roc_curve, roc_auc_score, matthews_corrcoef, auc\n",
    "from sklearn.metrics import balanced_accuracy_score, accuracy_score, average_precision_score\n",
    "from sklearn.preprocessing import OneHotEncoder, LabelBinarizer, MultiLabelBinarizer, label_binarize"
   ]
  },
  {
   "cell_type": "code",
   "execution_count": 3,
   "metadata": {},
   "outputs": [
    {
     "data": {
      "text/plain": [
       "True"
      ]
     },
     "execution_count": 3,
     "metadata": {},
     "output_type": "execute_result"
    }
   ],
   "source": [
    "torch.cuda.set_device(1)   ### use first GPU if you have many\n",
    "torch.cuda.is_available()"
   ]
  },
  {
   "cell_type": "markdown",
   "metadata": {},
   "source": [
    "## Getting the data"
   ]
  },
  {
   "cell_type": "code",
   "execution_count": 4,
   "metadata": {},
   "outputs": [],
   "source": [
    "PATH = '/home/jgmeyer2/drugclass/multiclass_data/'"
   ]
  },
  {
   "cell_type": "markdown",
   "metadata": {},
   "source": [
    "## Multiclassification"
   ]
  },
  {
   "cell_type": "code",
   "execution_count": 5,
   "metadata": {},
   "outputs": [
    {
     "data": {
      "text/html": [
       "<div>\n",
       "<style scoped>\n",
       "    .dataframe tbody tr th:only-of-type {\n",
       "        vertical-align: middle;\n",
       "    }\n",
       "\n",
       "    .dataframe tbody tr th {\n",
       "        vertical-align: top;\n",
       "    }\n",
       "\n",
       "    .dataframe thead th {\n",
       "        text-align: right;\n",
       "    }\n",
       "</style>\n",
       "<table border=\"1\" class=\"dataframe\">\n",
       "  <thead>\n",
       "    <tr style=\"text-align: right;\">\n",
       "      <th></th>\n",
       "      <th>image_name</th>\n",
       "      <th>tags</th>\n",
       "      <th>smiles</th>\n",
       "      <th>Col3</th>\n",
       "    </tr>\n",
       "  </thead>\n",
       "  <tbody>\n",
       "    <tr>\n",
       "      <th>0</th>\n",
       "      <td>pics/0</td>\n",
       "      <td>dermatologic</td>\n",
       "      <td>CC(=O)NC1C(O)OC(CO)C(O)C1O</td>\n",
       "      <td>['dermatologic']</td>\n",
       "    </tr>\n",
       "    <tr>\n",
       "      <th>1</th>\n",
       "      <td>pics/1</td>\n",
       "      <td>antiinfective</td>\n",
       "      <td>CCC[C@@]1(CCc2ccccc2)CC(O)=C([C@H](CC)c2cccc(N...</td>\n",
       "      <td>['antiinfective']</td>\n",
       "    </tr>\n",
       "    <tr>\n",
       "      <th>2</th>\n",
       "      <td>pics/2</td>\n",
       "      <td>antiinfective</td>\n",
       "      <td>CCCCC(C)C(=O)OC1C(C)C(CC)OC2(CC3CC(C/C=C(\\C)CC...</td>\n",
       "      <td>['antiinfective']</td>\n",
       "    </tr>\n",
       "    <tr>\n",
       "      <th>3</th>\n",
       "      <td>pics/3</td>\n",
       "      <td>antineoplastic</td>\n",
       "      <td>COc1cc2c(c(OC)c1OC)-c1c(cc3c(c1OC)OCO3)C[C@H](...</td>\n",
       "      <td>['antineoplastic']</td>\n",
       "    </tr>\n",
       "    <tr>\n",
       "      <th>4</th>\n",
       "      <td>pics/4</td>\n",
       "      <td>antiinfective respiratorysystem</td>\n",
       "      <td>CC(=O)N[C@@H](CS)C(=O)[O-]</td>\n",
       "      <td>['antiinfective', 'respiratorysystem']</td>\n",
       "    </tr>\n",
       "  </tbody>\n",
       "</table>\n",
       "</div>"
      ],
      "text/plain": [
       "  image_name                             tags  \\\n",
       "0     pics/0                     dermatologic   \n",
       "1     pics/1                    antiinfective   \n",
       "2     pics/2                    antiinfective   \n",
       "3     pics/3                   antineoplastic   \n",
       "4     pics/4  antiinfective respiratorysystem   \n",
       "\n",
       "                                              smiles  \\\n",
       "0                         CC(=O)NC1C(O)OC(CO)C(O)C1O   \n",
       "1  CCC[C@@]1(CCc2ccccc2)CC(O)=C([C@H](CC)c2cccc(N...   \n",
       "2  CCCCC(C)C(=O)OC1C(C)C(CC)OC2(CC3CC(C/C=C(\\C)CC...   \n",
       "3  COc1cc2c(c(OC)c1OC)-c1c(cc3c(c1OC)OCO3)C[C@H](...   \n",
       "4                         CC(=O)N[C@@H](CS)C(=O)[O-]   \n",
       "\n",
       "                                     Col3  \n",
       "0                        ['dermatologic']  \n",
       "1                       ['antiinfective']  \n",
       "2                       ['antiinfective']  \n",
       "3                      ['antineoplastic']  \n",
       "4  ['antiinfective', 'respiratorysystem']  "
      ]
     },
     "execution_count": 5,
     "metadata": {},
     "output_type": "execute_result"
    }
   ],
   "source": [
    "df = pd.read_csv(f'{PATH}all_chem_df.csv')\n",
    "#df.drop('', axis=1)\n",
    "df.head()"
   ]
  },
  {
   "cell_type": "code",
   "execution_count": 6,
   "metadata": {},
   "outputs": [
    {
     "name": "stdout",
     "output_type": "stream",
     "text": [
      "12\n"
     ]
    },
    {
     "data": {
      "text/plain": [
       "{'antiinfective',\n",
       " 'antiinflammatory',\n",
       " 'antineoplastic',\n",
       " 'cardio',\n",
       " 'cns',\n",
       " 'dermatologic',\n",
       " 'gastrointestinal',\n",
       " 'hematologic',\n",
       " 'lipidregulating',\n",
       " 'reproductivecontrol',\n",
       " 'respiratorysystem',\n",
       " 'urological'}"
      ]
     },
     "execution_count": 6,
     "metadata": {},
     "output_type": "execute_result"
    }
   ],
   "source": [
    "# print unique labels\n",
    "print(len(set([x.split(' ')[0] for x in df['tags']])))\n",
    "set([x.split(' ')[0] for x in df['tags']])\n"
   ]
  },
  {
   "cell_type": "markdown",
   "metadata": {},
   "source": [
    "To put this in a `DataBunch` while using the [data block API](https://docs.fast.ai/data_block.html), we then need to using `ImageList` (and not `ImageDataBunch`). This will make sure the model created has the proper loss function to deal with the multiple classes."
   ]
  },
  {
   "cell_type": "code",
   "execution_count": 7,
   "metadata": {},
   "outputs": [],
   "source": [
    "tfms = get_transforms(do_flip=True, flip_vert=True, max_lighting=0.1, max_zoom=1.05, max_warp=0)"
   ]
  },
  {
   "cell_type": "code",
   "execution_count": 8,
   "metadata": {},
   "outputs": [],
   "source": [
    "def get_val_idx_fromfile(validx_csv):\n",
    "    validx_df =pd.read_csv(validx_csv, header=None)\n",
    "    return validx_df[0].tolist()"
   ]
  },
  {
   "cell_type": "code",
   "execution_count": 13,
   "metadata": {},
   "outputs": [],
   "source": [
    "vidx = get_val_idx_fromfile(PATH+'multilabel_iter5fold_4.csv')"
   ]
  },
  {
   "cell_type": "code",
   "execution_count": 14,
   "metadata": {},
   "outputs": [
    {
     "data": {
      "text/plain": [
       "1670"
      ]
     },
     "execution_count": 14,
     "metadata": {},
     "output_type": "execute_result"
    }
   ],
   "source": [
    "len(vidx)"
   ]
  },
  {
   "cell_type": "code",
   "execution_count": 15,
   "metadata": {},
   "outputs": [],
   "source": [
    "np.random.seed(42)\n",
    "src = (ImageItemList.from_csv(PATH, 'all_chem_df.csv', folder='', suffix='.png')\n",
    "       .split_by_idx(vidx)\n",
    "       .label_from_df(label_delim=' '))"
   ]
  },
  {
   "cell_type": "code",
   "execution_count": 16,
   "metadata": {},
   "outputs": [],
   "source": [
    "data = (src.transform(tfms, size=256)\n",
    "        .databunch().normalize(imagenet_stats))"
   ]
  },
  {
   "cell_type": "code",
   "execution_count": 18,
   "metadata": {},
   "outputs": [
    {
     "data": {
      "text/plain": [
       "40"
      ]
     },
     "execution_count": 18,
     "metadata": {},
     "output_type": "execute_result"
    }
   ],
   "source": [
    "data.batch_size = 40\n",
    "data.batch_size"
   ]
  },
  {
   "cell_type": "code",
   "execution_count": 19,
   "metadata": {},
   "outputs": [],
   "source": [
    "arch = models.resnet50"
   ]
  },
  {
   "cell_type": "code",
   "execution_count": 20,
   "metadata": {},
   "outputs": [],
   "source": [
    "acc_50 = partial(accuracy_thresh, thresh=0.5, sigmoid=False)\n",
    "fs = partial(fbeta, thresh=0.5, sigmoid=False)\n",
    "learn = create_cnn(data, arch, metrics=[acc_50, fs], ps=0.4)"
   ]
  },
  {
   "cell_type": "code",
   "execution_count": null,
   "metadata": {
    "scrolled": true
   },
   "outputs": [],
   "source": [
    "np.random.seed(42)\n",
    "acc_50 = partial(accuracy_thresh, thresh=0.5, sigmoid=False)\n",
    "fs = partial(fbeta, thresh=0.5, sigmoid=False)\n",
    "act = []\n",
    "fbe = []\n",
    "roc = []\n",
    "avp = []\n",
    "for rep in range(0, 5):\n",
    "    print(rep)\n",
    "    vidx = get_val_idx_fromfile(PATH+'multilabel_iter5fold_'+str(rep)+'.csv')\n",
    "    data = (ImageItemList.from_csv(PATH, 'all_chem_df.csv', folder='', suffix='.png')\n",
    "            .split_by_idx(vidx).label_from_df(label_delim=' ')\n",
    "            .transform(tfms, size=256)\n",
    "            .databunch().normalize(imagenet_stats))\n",
    "    data.batch_size = 40\n",
    "    data.num_workers = 1\n",
    "    arch = models.resnet50\n",
    "    learn = create_cnn(data, arch, metrics=[acc_50, fs], ps=0.4)\n",
    "    learn.unfreeze()\n",
    "    learn.fit_one_cycle(127, slice(1e-4, 1e-2))\n",
    "    # change to use get_preds because it works better than TTA\n",
    "    y_preds, y = learn.get_preds(ds_type=DatasetType.Valid)\n",
    "    act.append(accuracy_thresh(y_preds, y, thresh= 0.5, sigmoid=False).item())\n",
    "    fbe.append(fbeta(y_preds, y, thresh = 0.5, sigmoid=False).item())\n",
    "    roc.append(roc_auc_score(y, y_preds, average=\"weighted\"))\n",
    "    avp.append(average_precision_score(y, y_preds, average=\"weighted\"))"
   ]
  },
  {
   "cell_type": "code",
   "execution_count": null,
   "metadata": {},
   "outputs": [],
   "source": [
    "print('acc thresholded mean '+str(np.mean(act))+'+/-'+str(np.std(act)))\n",
    "print('F beta mean '+str(np.mean(fbe))+'+/-'+str(np.std(fbe)))\n",
    "print('ROC AUC mean '+str(np.mean(roc))+'+/-'+str(np.std(roc)))\n",
    "print('Ave Prec Score mean '+str(np.mean(avp))+'+/-'+str(np.std(avp)))"
   ]
  },
  {
   "cell_type": "code",
   "execution_count": 166,
   "metadata": {},
   "outputs": [],
   "source": [
    "def get_y_pred(y_prob, thresh):\n",
    "    return (y_prob>thresh)"
   ]
  },
  {
   "cell_type": "code",
   "execution_count": 169,
   "metadata": {},
   "outputs": [],
   "source": [
    "preds = get_y_pred(y_preds, thresh)"
   ]
  },
  {
   "cell_type": "code",
   "execution_count": 155,
   "metadata": {},
   "outputs": [],
   "source": [
    "## convert binary predictions to list of classes in text format\n",
    "thresh = 0.5\n",
    "labelled_preds = [' '.join([learn.data.classes[i] for i,p in enumerate(pred) if p > thresh]) for pred in preds]"
   ]
  },
  {
   "cell_type": "code",
   "execution_count": 182,
   "metadata": {},
   "outputs": [],
   "source": [
    "### write predictions for network analysis\n",
    "with open('multiclass_validix5pred.csv', 'w') as f:\n",
    "    writer = csv.writer(f, delimiter=',')\n",
    "    writer.writerows(map(lambda x: [x], labelled_preds))"
   ]
  },
  {
   "cell_type": "code",
   "execution_count": 183,
   "metadata": {},
   "outputs": [],
   "source": [
    "learn.save('multiclass_fold5final.model')"
   ]
  },
  {
   "cell_type": "markdown",
   "metadata": {},
   "source": [
    "## fin"
   ]
  }
 ],
 "metadata": {
  "kernelspec": {
   "display_name": "nfastai",
   "language": "python",
   "name": "nfastai"
  },
  "language_info": {
   "codemirror_mode": {
    "name": "ipython",
    "version": 3
   },
   "file_extension": ".py",
   "mimetype": "text/x-python",
   "name": "python",
   "nbconvert_exporter": "python",
   "pygments_lexer": "ipython3",
   "version": "3.6.7"
  }
 },
 "nbformat": 4,
 "nbformat_minor": 2
}
