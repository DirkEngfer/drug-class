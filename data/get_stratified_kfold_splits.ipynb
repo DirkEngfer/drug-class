{
 "cells": [
  {
   "cell_type": "code",
   "execution_count": 10,
   "metadata": {},
   "outputs": [],
   "source": [
    "from sklearn.model_selection import StratifiedKFold\n",
    "import csv\n",
    "import pandas as pd"
   ]
  },
  {
   "cell_type": "code",
   "execution_count": 11,
   "metadata": {},
   "outputs": [],
   "source": [
    "def get_valids_skf(label_csv):\n",
    "    label_df = pd.read_csv(label_csv)\n",
    "    X = label_df['smiles']\n",
    "    y = label_df['class']\n",
    "    skf = StratifiedKFold(n_splits=5, random_state=1000)\n",
    "    skf.get_n_splits(X, y)\n",
    "    print(skf)\n",
    "    validsets=[]\n",
    "    for train_index, test_index in skf.split(X, y):\n",
    "        validsets.append(test_index)\n",
    "    return(validsets)"
   ]
  },
  {
   "cell_type": "code",
   "execution_count": 12,
   "metadata": {},
   "outputs": [],
   "source": [
    "PATH = \"data/data_rmsalt_rmol2/pics/\""
   ]
  },
  {
   "cell_type": "code",
   "execution_count": 20,
   "metadata": {},
   "outputs": [
    {
     "name": "stdout",
     "output_type": "stream",
     "text": [
      "StratifiedKFold(n_splits=5, random_state=1000, shuffle=False)\n"
     ]
    }
   ],
   "source": [
    "### write new 3 class splits to file\n",
    "VALIDSETS = get_valids_skf(f'{PATH}3cls_rmsaltol.csv')\n",
    "\n",
    "for y in range(0, len(VALIDSETS)):\n",
    "    idlist = VALIDSETS[y].tolist()\n",
    "    with open('3cls_newskf' +str(y)+'.csv', 'w') as f:\n",
    "        writer = csv.writer(f, delimiter=',')\n",
    "        writer.writerows(map(lambda x: [x], idlist))"
   ]
  },
  {
   "cell_type": "code",
   "execution_count": 21,
   "metadata": {},
   "outputs": [
    {
     "name": "stdout",
     "output_type": "stream",
     "text": [
      "StratifiedKFold(n_splits=5, random_state=1000, shuffle=False)\n"
     ]
    }
   ],
   "source": [
    "### write new 5 class splits to file\n",
    "VALIDSETS = get_valids_skf(f'{PATH}5cls_rmsaltol.csv')\n",
    "\n",
    "for y in range(0, len(VALIDSETS)):\n",
    "    idlist = VALIDSETS[y].tolist()\n",
    "    with open('5cls_newskf' +str(y)+'.csv', 'w') as f:\n",
    "        writer = csv.writer(f, delimiter=',')\n",
    "        writer.writerows(map(lambda x: [x], idlist))"
   ]
  },
  {
   "cell_type": "code",
   "execution_count": 22,
   "metadata": {},
   "outputs": [
    {
     "name": "stdout",
     "output_type": "stream",
     "text": [
      "StratifiedKFold(n_splits=5, random_state=1000, shuffle=False)\n"
     ]
    }
   ],
   "source": [
    "### write new 12 class splits to file\n",
    "VALIDSETS = get_valids_skf(f'{PATH}12cls_rmsaltol.csv')\n",
    "\n",
    "for y in range(0, len(VALIDSETS)):\n",
    "    idlist = VALIDSETS[y].tolist()\n",
    "    with open('12cls_newskf' +str(y)+'.csv', 'w') as f:\n",
    "        writer = csv.writer(f, delimiter=',')\n",
    "        writer.writerows(map(lambda x: [x], idlist))"
   ]
  },
  {
   "cell_type": "code",
   "execution_count": null,
   "metadata": {},
   "outputs": [],
   "source": []
  }
 ],
 "metadata": {
  "kernelspec": {
   "display_name": "fastaiold",
   "language": "python",
   "name": "fastai"
  },
  "language_info": {
   "codemirror_mode": {
    "name": "ipython",
    "version": 3
   },
   "file_extension": ".py",
   "mimetype": "text/x-python",
   "name": "python",
   "nbconvert_exporter": "python",
   "pygments_lexer": "ipython3",
   "version": "3.6.6"
  }
 },
 "nbformat": 4,
 "nbformat_minor": 2
}
